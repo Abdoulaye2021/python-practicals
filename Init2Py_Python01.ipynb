{
 "cells": [
  {
   "cell_type": "markdown",
   "metadata": {},
   "source": [
    "Exercise 1"
   ]
  },
  {
   "cell_type": "code",
   "execution_count": 10,
   "metadata": {},
   "outputs": [
    {
     "name": "stdin",
     "output_type": "stream",
     "text": [
      "Donner un nombre 4\n"
     ]
    },
    {
     "name": "stdout",
     "output_type": "stream",
     "text": [
      "la somme est 8\n"
     ]
    }
   ],
   "source": [
    "N=int(input(\"Donner un nombre\"))\n",
    "s=0\n",
    "for i in range(0,N):\n",
    "    if i%2==0:\n",
    "        s=s+i+3\n",
    "print(\"la somme est\",s)\n"
   ]
  },
  {
   "cell_type": "code",
   "execution_count": 13,
   "metadata": {},
   "outputs": [
    {
     "name": "stdin",
     "output_type": "stream",
     "text": [
      "Donner un nombre 4\n"
     ]
    },
    {
     "name": "stdout",
     "output_type": "stream",
     "text": [
      "le produit est 24\n"
     ]
    }
   ],
   "source": [
    "N=int(input(\"Donner un nombre\"))\n",
    "p=1\n",
    "for i in range(0,N):\n",
    "    if i%2!=0:\n",
    "        p=p*(i+3)\n",
    "print(\"le produit est\",p)"
   ]
  },
  {
   "cell_type": "markdown",
   "metadata": {},
   "source": [
    "\n",
    "Exercise 2\n"
   ]
  },
  {
   "cell_type": "code",
   "execution_count": 1,
   "metadata": {},
   "outputs": [
    {
     "name": "stdin",
     "output_type": "stream",
     "text": [
      "Entrer un nombre 6\n"
     ]
    },
    {
     "name": "stdout",
     "output_type": "stream",
     "text": [
      "weekend\n"
     ]
    }
   ],
   "source": [
    "weeks=[\"Lundi\",\"Mardi\",\"Mercredi\",\"Jeudi\",\"Vendredi\"]\n",
    "jour=int(input(\"Entrer un nombre\"))\n",
    "if(jour>0 and jour<4):\n",
    "    print(weeks[jour])\n",
    "else:\n",
    "    print(\"weekend\")"
   ]
  },
  {
   "cell_type": "markdown",
   "metadata": {},
   "source": [
    "exercise 3"
   ]
  },
  {
   "cell_type": "code",
   "execution_count": 1,
   "metadata": {},
   "outputs": [
    {
     "name": "stdin",
     "output_type": "stream",
     "text": [
      "Donner le numero du mois 5\n"
     ]
    },
    {
     "name": "stdout",
     "output_type": "stream",
     "text": [
      "le mois a  31 jours\n"
     ]
    }
   ],
   "source": [
    "mois=input(\"Donner le numero du mois\")\n",
    "if(mois==4 or mois==6 or mois==9 or mois ==10):\n",
    "    print(\"le mois a \",30,\"jours\")\n",
    "elif(mois==2):\n",
    "    print(\"le mois a \",28,\"jours\")\n",
    "else:\n",
    "    print(\"le mois a \",31,\"jours\")\n",
    "    \n",
    "    "
   ]
  },
  {
   "cell_type": "markdown",
   "metadata": {},
   "source": [
    "Exercise 4"
   ]
  },
  {
   "cell_type": "code",
   "execution_count": 2,
   "metadata": {},
   "outputs": [
    {
     "name": "stdout",
     "output_type": "stream",
     "text": [
      "Abdoulaye SOW\n",
      "Abdoulaye SOW\n",
      "Abdoulaye SOW\n",
      "Abdoulaye SOW\n",
      "Abdoulaye SOW\n",
      "Abdoulaye SOW\n"
     ]
    }
   ],
   "source": [
    "for i in(1,4):\n",
    "    print(\"Abdoulaye SOW\")\n",
    "i=0\n",
    "while(i<4):\n",
    "    print(\"Abdoulaye SOW\")\n",
    "    i=i+1\n",
    "    "
   ]
  },
  {
   "cell_type": "markdown",
   "metadata": {},
   "source": [
    "Exercice 5"
   ]
  },
  {
   "cell_type": "code",
   "execution_count": 15,
   "metadata": {},
   "outputs": [
    {
     "name": "stdout",
     "output_type": "stream",
     "text": [
      "0\n",
      "1\n",
      "1\n",
      "2\n",
      "3\n",
      "5\n",
      "8\n",
      "13\n",
      "21\n",
      "34\n",
      "55\n",
      "89\n",
      "144\n",
      "233\n",
      "377\n"
     ]
    }
   ],
   "source": [
    "def Fibonacci(n):\n",
    "    if n<0:\n",
    "        print(\"Incorrect input\")\n",
    "    # First Fibonacci number is 0\n",
    "    elif n==0:\n",
    "        return 0\n",
    "    # Second Fibonacci number is 1\n",
    "    elif n==1:\n",
    "        return 1\n",
    "    else:\n",
    "        return Fibonacci(n-1)+Fibonacci(n-2)\n",
    "for i in range(0,15):\n",
    "    print(Fibonacci(i))"
   ]
  },
  {
   "cell_type": "code",
   "execution_count": null,
   "metadata": {},
   "outputs": [],
   "source": []
  }
 ],
 "metadata": {
  "kernelspec": {
   "display_name": "Python 3",
   "language": "python",
   "name": "python3"
  },
  "language_info": {
   "codemirror_mode": {
    "name": "ipython",
    "version": 3
   },
   "file_extension": ".py",
   "mimetype": "text/x-python",
   "name": "python",
   "nbconvert_exporter": "python",
   "pygments_lexer": "ipython3",
   "version": "3.7.4"
  }
 },
 "nbformat": 4,
 "nbformat_minor": 4
}
