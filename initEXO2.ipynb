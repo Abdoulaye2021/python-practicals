{
 "cells": [
  {
   "cell_type": "markdown",
   "metadata": {},
   "source": [
    "EXERCICE 1"
   ]
  },
  {
   "cell_type": "code",
   "execution_count": 8,
   "metadata": {},
   "outputs": [
    {
     "name": "stdin",
     "output_type": "stream",
     "text": [
      "donner un reel x different de 0 15\n",
      "donner un reel y 8\n"
     ]
    },
    {
     "name": "stdout",
     "output_type": "stream",
     "text": [
      "le resultat est 371262.956927904\n"
     ]
    }
   ],
   "source": [
    "from math import *\n",
    "x=float(input(\"donner un reel x different de 0\"))\n",
    "y=float(input(\"donner un reel y\" ))\n",
    "z=sqrt(x**(2+y))/((1/x)+2*sin(y))\n",
    "print(\"le resultat est\", z)\n"
   ]
  },
  {
   "cell_type": "markdown",
   "metadata": {},
   "source": [
    "EXERCICE 2"
   ]
  },
  {
   "cell_type": "code",
   "execution_count": 20,
   "metadata": {},
   "outputs": [
    {
     "data": {
      "text/plain": [
       "16"
      ]
     },
     "execution_count": 20,
     "metadata": {},
     "output_type": "execute_result"
    }
   ],
   "source": [
    "def ownpowerfn(b,n):\n",
    "    return b**n    \n",
    "        \n",
    "        \n",
    "ownpowerfn(2,4)      "
   ]
  },
  {
   "cell_type": "markdown",
   "metadata": {},
   "source": [
    "Execrcice 3"
   ]
  },
  {
   "cell_type": "code",
   "execution_count": 22,
   "metadata": {},
   "outputs": [
    {
     "name": "stdin",
     "output_type": "stream",
     "text": [
      "donner un reel 2\n",
      "donner un reel 6\n"
     ]
    },
    {
     "name": "stdout",
     "output_type": "stream",
     "text": [
      "la moyenne art est 4.0 et la moy geo est 3.4641016151377544\n"
     ]
    }
   ],
   "source": [
    "from math import *\n",
    "a=float(input(\"donner un reel\"))\n",
    "b=float(input(\"donner un reel\"))\n",
    "ma=(a+b)/2\n",
    "mg=sqrt(a*b)   \n",
    "print(\"la moyenne art est\",ma,\"et la moy geo est\",mg)\n"
   ]
  },
  {
   "cell_type": "code",
   "execution_count": 24,
   "metadata": {},
   "outputs": [],
   "source": [
    "def convert_celsius_en_fahrenheit(temp):\n",
    "    \n",
    "    temp_Fah=(temp*(9/5)+32)\n",
    "    return temp_Fah\n",
    "def fahrenheit_to_celcius(temp):\n",
    "    temp_c=(temp*(9/5)+32)\n",
    "    temp_Fah=(temp-32)/(5*9)\n",
    "    return temp_Fah\n",
    "\n",
    "    "
   ]
  },
  {
   "cell_type": "code",
   "execution_count": null,
   "metadata": {},
   "outputs": [],
   "source": []
  }
 ],
 "metadata": {
  "kernelspec": {
   "display_name": "Python 3",
   "language": "python",
   "name": "python3"
  },
  "language_info": {
   "codemirror_mode": {
    "name": "ipython",
    "version": 3
   },
   "file_extension": ".py",
   "mimetype": "text/x-python",
   "name": "python",
   "nbconvert_exporter": "python",
   "pygments_lexer": "ipython3",
   "version": "3.7.4"
  }
 },
 "nbformat": 4,
 "nbformat_minor": 4
}
