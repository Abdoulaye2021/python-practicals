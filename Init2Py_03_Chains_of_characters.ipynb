{
 "cells": [
  {
   "cell_type": "markdown",
   "metadata": {},
   "source": [
    "<center>\n",
    "    <a href=\"https://www.aims-senegal.org/\" ><img src=\"aimssn_logo.png\" style=\"float:center; max-width: 600px; display: inline\" alt=\"AIMS-SN\"/> </a>\n",
    "    </center>\n",
    "    \n",
    "#    <center> <b> <span style=\"color:orange;\" >  `Python for Scientific Computing and Software Engineering ` </span> </b></center>\n",
    "\n",
    "\n",
    "## <center> <b> <span style=\"color:orange;\"> An Initiation to Programming using Python (Init2Py) </span> </b></center>\n",
    "\n",
    "### <center> <b> <span style=\"color:blue;\"> Chains of characters </span> </b></center>"
   ]
  },
  {
   "cell_type": "markdown",
   "metadata": {
    "id": "DRx_RvXsXBki"
   },
   "source": [
    "The goal of this section is to present `chains of characters`, to use some  operations commonly used in text processing."
   ]
  },
  {
   "cell_type": "markdown",
   "metadata": {
    "id": "RPDYw9BmXBkm"
   },
   "source": [
    "Chains of characters are not objects as such it is in a Python programme.\n",
    "They are rather sequences of values (like numerical datatypes) which are used to define objects strictly speaking like lists, tuples -that we will explain later-, etc... Like in the case of mathematical operations achievable with numerical data(addition, multiplication, division, etc..), there also exists a package of operations that serve to manipulate chains of characters. "
   ]
  },
  {
   "cell_type": "markdown",
   "metadata": {
    "id": "tF_Nq1ZfXBkr"
   },
   "source": [
    "##  <left> <b> <span style=\"color:orange;\"> 0. Defining a string variable </span> </b></left>\n",
    "\n",
    "A chain of character is defined in a classical way by a direct assignment by using the symbol of equality(as discussed on the section related to creation of variables). The only particularity of characters(variables) compared to numerical variables is that their values must ne specified between quotes during the assignment. The three\n",
    "examples below are illustrations."
   ]
  },
  {
   "cell_type": "code",
   "execution_count": null,
   "metadata": {
    "id": "2KXT46kqXBkt"
   },
   "outputs": [],
   "source": [
    "ch1 = 'Will you be part of this evening meeting ?'\n",
    "ch2 = '\"yes\", he answers.'\n",
    "ch3 = \"Good, I will appreciate it.\"\n",
    "ch4 = \"\"\"This sentence is a long chain of characters containing all types of quotations: \" ' « » but also more special characters.\"\"\"\n",
    "print(ch1)\n",
    "print(\"================================================\")\n",
    "print('\\t')\n",
    "\n",
    "\n",
    "\n",
    "print(ch2)\n",
    "print(\"================================================\")\n",
    "print('\\t')\n",
    "\n",
    "\n",
    "print(ch3)\n",
    "print(\"================================================\")\n",
    "print('\\t')\n",
    "\n",
    "\n",
    "print(ch4)"
   ]
  },
  {
   "cell_type": "markdown",
   "metadata": {
    "id": "fgiXo8haXBkw"
   },
   "source": [
    "These four examples show different uses of quotations during the definition of a\n",
    "variable as a chain of characters.\n",
    "\n",
    " - In the first example (`ch1`), one uses simple quotes because there is any inconvenient \n",
    "of doing so in view of the specified chain. One could also use double quotes.\n",
    " - In the second example (`ch2`), one uses simple quotes because the specified chain\n",
    "already contains double quotes as value.\n",
    " - In the third example (`ch3`), one uses double quotes because the text contains \n",
    "single quotations mark which in fact are simple quotes.\n",
    " - In the fourth example (ch4), one uses triple quotes because the text contains not only\n",
    " simple quotes, single quotations mark and double quotes, but extends to many lines. In these conditions, the use of triple quotes is required."
   ]
  },
  {
   "cell_type": "markdown",
   "metadata": {
    "id": "fXGomVJPXBkx"
   },
   "source": [
    "##  <left> <b> <span style=\"color:orange;\"> 1. Chains and subchains Indexing (*Slicing*) </span> </b></left> \n",
    "\n",
    "###  <left> <b> <span style=\"color:brown;\"> 1.0 Chains and subchains Indexing (*Slicing*) </span> </b></left> \n",
    " \n",
    "\n",
    "A chain of characters is a sequence of ordored and indexed values. That means we can access each of the elements of the sequence by specifying its index like in a list.\n",
    "We can also extract some portions of a chain by using *slices*, of generic notation\n",
    "`[start=0]:[stop=len][:step=1]`. The indexing in python start from 0 : the first element of a list is the element n°0, the\n",
    "2nd is the n°1, etc. The n elements of a list are thus indexed from *0* to *n-1*. \n",
    "The examples below are illustrations.\n",
    "\n",
    "```python\n",
    "ch=\"Christelle\"\n",
    "ch[0] # returns 'C'\n",
    "ch[2] # returns 'r'\n",
    "ch[-1] # returns 'e', the last element of ch\n",
    "ch[:6] # returns 'Christ'\n",
    "ch[6 :] # returns 'elle'\n",
    "ch[0:10:2] # returns 'Crsel'\n",
    "```"
   ]
  },
  {
   "cell_type": "code",
   "execution_count": null,
   "metadata": {
    "id": "LrM6o5cfv3r2"
   },
   "outputs": [],
   "source": [
    "ch=\"Christelle\"\n",
    "ch[0] # returns 'C'\n",
    "ch[2] # returns 'r'\n",
    "ch[-1] # returns 'e', the last element of ch\n",
    "ch[:6] # returns 'Christ'\n",
    "ch[6 :] # returns 'elle'\n",
    "ch[0:10:2] # returns 'Crsel'"
   ]
  },
  {
   "cell_type": "markdown",
   "metadata": {
    "id": "QEUcw4zpXBky"
   },
   "source": [
    "The elements of a chain of characters are not defined depending on words separated by spaces but rather by the characters that constitute it. Indeed,even though the chaîn was made by a sentence of many words, the indexing will only be made on the basis of characters that form the long chain. Example :\n",
    "```python\n",
    "    ch=\"This is a chain of many words\"\n",
    "    ch[1] # returns 'h'\n",
    "    ch[4] # returns ' ', the blank space separating 'This' from 'is'\n",
    "    ch[0:4] # returns 'This'\n",
    "```"
   ]
  },
  {
   "cell_type": "code",
   "execution_count": null,
   "metadata": {
    "id": "HNVlMhkKv7Iz"
   },
   "outputs": [],
   "source": [
    "ch=\"This is a chain of many words\"\n",
    "ch[1] # returns 'h'\n",
    "ch[4] # returns ' ', the blank space separating 'This' from 'is'\n",
    "ch[0:4] # returns 'This'"
   ]
  },
  {
   "cell_type": "markdown",
   "metadata": {
    "id": "WOWk8mTZXBk0"
   },
   "source": [
    "<left> <b> <span style=\"color:brown;\">One can act on a chain (and more generally on a sequence) by using \n",
    "functions (procedural notion) or methods (Object notion). We discuss that lower.</span> </b></left> "
   ]
  },
  {
   "cell_type": "markdown",
   "metadata": {
    "id": "Qftq5wdCXBk2"
   },
   "source": [
    "###  <left> <b> <span style=\"color:brown;\"> 1.1  Length of a chain of characters </span> </b></left> \n",
    "\n",
    "\n",
    "To determinate the length of a chain of character, one uses the function `len()`."
   ]
  },
  {
   "cell_type": "code",
   "execution_count": null,
   "metadata": {
    "id": "j2h15V_hXBk5"
   },
   "outputs": [],
   "source": [
    "ch=\"This is a chain of many words\"\n",
    "print(len(ch)) # returns 29; the chain ch is made of 29 characters (spaces also count)."
   ]
  },
  {
   "cell_type": "markdown",
   "metadata": {
    "id": "NuS1HNK9XBk6"
   },
   "source": [
    "###  <left> <b> <span style=\"color:brown;\"> 1.2  Addition of chains of characters (**concatenation**) </span> </b></left> \n",
    "\n",
    "The addition of chains of characters is the juxtaposition of chains of characters the ones after the others in order to form a unique chain of characters. It is about **concatenation**.\n",
    "To achieve this operation, one uses the symbol + between the names of chains variables. The obtained result is then assigned to a new variable. Examples :"
   ]
  },
  {
   "cell_type": "code",
   "execution_count": null,
   "metadata": {
    "id": "lEEzDa1HXBk7"
   },
   "outputs": [],
   "source": [
    "x = \"A small step for a man,\"\n",
    "y = \"a huge step for humanity\"\n",
    "z = x + y\n",
    "print(z) # returns 'A small step for a man,a huge step for humanity'"
   ]
  },
  {
   "cell_type": "markdown",
   "metadata": {
    "id": "Cm714Fc3XBk8"
   },
   "source": [
    "In the use of the operator of concatenation, one must pay attention when it is about to associate a numerical value to a chain to form a unique chain. Example:\n",
    "```python\n",
    "    x = 'This pen costs'\n",
    "    y = 5\n",
    "    z = 'euros'\n",
    "\n",
    "```\n",
    "We want to concatenate x, y and z in order to obtain the sentence 'This pen costs 5 euros'.\n",
    "In this situation, we can not do x+y+z bacause y is a numerical variable. One must first convert this value by using the  function str(). Thus, we have\n",
    "    "
   ]
  },
  {
   "cell_type": "code",
   "execution_count": null,
   "metadata": {
    "id": "2Pxq1H6aXBk-"
   },
   "outputs": [],
   "source": [
    "x = 'This pen costs'\n",
    "y = 5\n",
    "z = 'euros'\n",
    "ch = x+str(y)+z\n",
    "print(ch) # returns 'This pen costs5euros'"
   ]
  },
  {
   "cell_type": "markdown",
   "metadata": {
    "id": "3bjGOu8XXBk_"
   },
   "source": [
    "One sees that there is no space between costs and 5, and between 5 and euros. We can then modify the operation of concatenation by inserting blank spaces between values. Thus, one gets :\n"
   ]
  },
  {
   "cell_type": "code",
   "execution_count": null,
   "metadata": {
    "id": "EgjlouOvXBk_"
   },
   "outputs": [],
   "source": [
    "ch = x + ' '+ str(y) + ' '+ z\n",
    "print(ch) # returns 'This pen costs 5 euros'"
   ]
  },
  {
   "cell_type": "markdown",
   "metadata": {
    "id": "cMl1sl9YXBlA"
   },
   "source": [
    "This result could be also obtained through a direct expression directe like:\n"
   ]
  },
  {
   "cell_type": "code",
   "execution_count": null,
   "metadata": {
    "id": "1DjjfsbpXBlB"
   },
   "outputs": [],
   "source": [
    "ch = 'This pen costs'+ ' '+ '5' + ' '+ 'euros'\n",
    "print(ch) # returns 'This pen costs 5 euros'"
   ]
  },
  {
   "cell_type": "markdown",
   "metadata": {
    "id": "vi5MM7bwXBlU"
   },
   "source": [
    "###  <left> <b> <span style=\"color:brown;\"> 1.3 Methods </span> </b></left> \n",
    "\n",
    "Chains of charactères have [several functionalities](https://docs.python.org/2/library/stdtypes.html#string-methods) – called `methods` in OOP\n",
    "(Oriented Object Programmation) – facilitating their handling.\n",
    "The function `dir()` lists all methods of chains. Among them, the commonly used are \n",
    "`upper()`, `lower()`, `capitalize()`, `find()`, `replace()`,`count()`,`startwith()`,`endwith()`, `in`."
   ]
  },
  {
   "cell_type": "code",
   "execution_count": null,
   "metadata": {
    "id": "INNZq1aaXBlW"
   },
   "outputs": [],
   "source": [
    "help(titre.replace)"
   ]
  },
  {
   "cell_type": "code",
   "execution_count": null,
   "metadata": {
    "id": "DPgi_pnrXBlZ"
   },
   "outputs": [],
   "source": [
    "# All in capital letters\n",
    "word=\"Hello\"\n",
    "word=word.upper()\n",
    "print(word)"
   ]
  },
  {
   "cell_type": "code",
   "execution_count": null,
   "metadata": {
    "id": "gmo8vtUUXBlb"
   },
   "outputs": [],
   "source": [
    "#All in miniature\n",
    "word=\"Hello\"\n",
    "word=word.lower()\n",
    "print(word)"
   ]
  },
  {
   "cell_type": "code",
   "execution_count": null,
   "metadata": {
    "id": "OGsXGdHtXBlc"
   },
   "outputs": [],
   "source": [
    "# Only the first in capital letter\n",
    "word=\"heLLO\"\n",
    "word=word.title()\n",
    "print(word)\n"
   ]
  },
  {
   "cell_type": "code",
   "execution_count": null,
   "metadata": {
    "id": "6kU_7p-9XBld"
   },
   "outputs": [],
   "source": [
    "children, plush = \"Calvin\", 'Hobbes' # Mutiple affectation \n",
    "\n",
    "\n",
    "\n",
    "titre = children + ' and ' + plush; titre # +: Concatenation of chains\n",
    "print(titre)\n",
    "print(\"================================================\")\n",
    "print('\\t')\n",
    "\n",
    "\n",
    "\n",
    "\n",
    "\n",
    "print(titre.replace('and', '&')) # Remplacement of the subchain 'Calvin & Hobbes'\n",
    "print(\"================================================\")\n",
    "print('\\t')\n",
    "\n",
    "\n",
    "\n",
    "' & '.join(titre.split(' and ')) # Cutting (split) et junction (join)\n",
    "print(\"================================================\")\n",
    "print('\\t')\n",
    "\n",
    "\n",
    "\n",
    "\n",
    "print('Hobbes' in titre) # in: Test of inclusion\n",
    "print(\"================================================\")\n",
    "print('\\t')\n",
    "\n",
    "\n",
    "\n",
    "print(titre.find(\"Hobbes\")) # str.find: search for a subchain\n",
    "\n",
    "\n",
    "print(titre.center(30, '-')) # '-------Calvin and Hobbes-------'\n",
    "\n",
    "\n",
    "dir(str) # Lists all methods of a chain."
   ]
  },
  {
   "cell_type": "markdown",
   "metadata": {
    "id": "Ncvysi3KXBle"
   },
   "source": [
    "###  <left> <b> <span style=\"color:brown;\"> 1.4 Formatting </span> </b></left> \n",
    "\n",
    "It often happens that we want to recover the value of a variable and integrate it to a  chain\n",
    "of characters to form a new chain of character usable for other purposes.\n",
    "Let the  variable price be defined as followed\n",
    "```python price=2\n",
    "```\n",
    "We want to display a message like\n",
    "`\"Le prix du stylo est de 2 euros\"`.\n",
    "\n",
    "The goal of the operation of formatting is to display the value of a variable inside a chain of characters. For that, one has three principal methods:\n",
    "  - the use of the operation of concatenation \"+ \"\n",
    "  - the use of the operation of formatting \"%\" %\n",
    "  - the use of the function format \"{}\".format().\n",
    "  \n",
    "We will only show an example with the method `str.format()`.\n",
    "The system of [formatting](https://docs.python.org/2/library/string.html#formatstrings) allows to control precisely the conversion of variables into chains of characters.\n",
    "It is essentially based on the method `str.format()`:"
   ]
  },
  {
   "cell_type": "code",
   "execution_count": null,
   "metadata": {
    "id": "XdYHzH3rXBlf"
   },
   "outputs": [],
   "source": [
    "print(\"{name} has {age} years\".format(name='Calvin', age=6)) #'Calvin has 6 years'\n",
    "print(\"================================================\")\n",
    "print('\\t')\n",
    "\n",
    "\n",
    "print(\"{} has {} ans\".format('Calvin', 6)) # Shortcut  'Calvin has 6 years'\n",
    "print(\"================================================\")\n",
    "print('\\t')\n",
    "\n",
    "\n",
    "\n",
    "pi = 3.1415926535897931\n",
    "print(\"{x:f} {x:.2f} {y:f} {y:g} \".format(x=pi, y=pi*1e9)) # '3.141593 3.14 3141592653.589793 3.14159e+09'"
   ]
  },
  {
   "cell_type": "markdown",
   "metadata": {
    "id": "LjAD8w_gXBlg"
   },
   "source": [
    "[print](https://docs.python.org/2/library/functions.html#print) displays on the screen (more specifically the standard output) the conversion of a variable into a chain of characters :"
   ]
  },
  {
   "cell_type": "code",
   "execution_count": null,
   "metadata": {
    "id": "5o7J1FaJXBlg"
   },
   "outputs": [],
   "source": [
    "print(\"Calvin and Hobbes\\nScientific progress goes 'boink'\") # Calvin and Hobbes Scientific progress goes 'boink'"
   ]
  },
  {
   "cell_type": "code",
   "execution_count": null,
   "metadata": {
    "id": "4JOgPokrXBlg"
   },
   "outputs": [],
   "source": [
    "print((\"{0} times {1} give {2} \").format(3, 4, 3*4)) # Formatting et display\n",
    "#3 times 4 give 12\n",
    "#A little exercise in this section is to display a table of multiplication."
   ]
  },
  {
   "cell_type": "markdown",
   "metadata": {
    "id": "vrppkQ_UXBlh"
   },
   "source": [
    "One point that we will not see in this notebook but interesting to read is the use of the operator **antislash** `\\`."
   ]
  },
  {
   "cell_type": "markdown",
   "metadata": {
    "id": "jw_-zuOSXBli"
   },
   "source": [
    "By concluding this section, we mention the study of regular expressions (regex ou re) which will be the object of a presentation. We can, as a guideline, say that regular expressions are extensions of the function str() qui allow to achieve some more complex operations of pattern definition that function str() doesn't allow."
   ]
  },
  {
   "cell_type": "markdown",
   "metadata": {
    "id": "FAUEwzxFXBlj"
   },
   "source": [
    "**Remark:** One must do an important remark concerning the difference between a value of character type and a value of alphabetical type. Indeed, an alphabetical value is always a chain of characters whereas a chain of characters is not necessarily an alphabetical value. In python, a character value is always expressed between quotes(simple, double or triple) whereas a numerical value is expressed without quotes. One distinguishes two principal types of data : numerical data and data in characters. Please note that a numerical value expressed between quotes is automatically treated as a character value even if it is not an alphabetical value. It is important to keep in mind these details during the use of sequences of values in python (see example below):\n",
    "\n",
    "```python\n",
    "    x = 12 # x is a numerical value\n",
    "    y = \"12\" # y is a chain of character formed by two digits\n",
    "    z = \"my text\" # z is a chain of character formed by alphabetical values\n",
    "    k = \"This pen costs 5 euros\" # k is a chain of character formed by alphanumerical value\n",
    "```"
   ]
  },
  {
   "cell_type": "markdown",
   "metadata": {
    "id": "68h8gAj2XBlj"
   },
   "source": [
    "For more details on chains of characters see [this page.](http://www.tutorialspoint.com/python/python_strings.htm)"
   ]
  }
 ],
 "metadata": {
  "colab": {
   "name": "3_Chaînes-de-caractères.ipynb",
   "provenance": []
  },
  "kernelspec": {
   "display_name": "Python 3",
   "language": "python",
   "name": "python3"
  },
  "language_info": {
   "codemirror_mode": {
    "name": "ipython",
    "version": 3
   },
   "file_extension": ".py",
   "mimetype": "text/x-python",
   "name": "python",
   "nbconvert_exporter": "python",
   "pygments_lexer": "ipython3",
   "version": "3.8.10"
  },
  "varInspector": {
   "cols": {
    "lenName": 16,
    "lenType": 16,
    "lenVar": 40
   },
   "kernels_config": {
    "python": {
     "delete_cmd_postfix": "",
     "delete_cmd_prefix": "del ",
     "library": "var_list.py",
     "varRefreshCmd": "print(var_dic_list())"
    },
    "r": {
     "delete_cmd_postfix": ") ",
     "delete_cmd_prefix": "rm(",
     "library": "var_list.r",
     "varRefreshCmd": "cat(var_dic_list()) "
    }
   },
   "types_to_exclude": [
    "module",
    "function",
    "builtin_function_or_method",
    "instance",
    "_Feature"
   ],
   "window_display": false
  }
 },
 "nbformat": 4,
 "nbformat_minor": 1
}
